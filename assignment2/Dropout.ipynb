{
  "nbformat": 4,
  "nbformat_minor": 0,
  "metadata": {
    "colab": {
      "name": "Dropout.ipynb",
      "version": "0.3.2",
      "provenance": [],
      "collapsed_sections": [],
      "toc_visible": true,
      "include_colab_link": true
    },
    "kernelspec": {
      "name": "python3",
      "display_name": "Python 3"
    },
    "accelerator": "TPU"
  },
  "cells": [
    {
      "cell_type": "markdown",
      "metadata": {
        "id": "view-in-github",
        "colab_type": "text"
      },
      "source": [
        "<a href=\"https://colab.research.google.com/github/muGithub/CS231n/blob/master/assignment2/Dropout.ipynb\" target=\"_parent\"><img src=\"https://colab.research.google.com/assets/colab-badge.svg\" alt=\"Open In Colab\"/></a>"
      ]
    },
    {
      "metadata": {
        "editable": true,
        "deletable": true,
        "id": "le2sheuP_qmk",
        "colab_type": "text"
      },
      "cell_type": "markdown",
      "source": [
        "# Dropout\n",
        "Dropout [1] is a technique for regularizing neural networks by randomly setting some features to zero during the forward pass. In this exercise you will implement a dropout layer and modify your fully-connected network to optionally use dropout.\n",
        "\n",
        "[1] Geoffrey E. Hinton et al, \"Improving neural networks by preventing co-adaptation of feature detectors\", arXiv 2012"
      ]
    },
    {
      "metadata": {
        "id": "gVTJ8K7u_uya",
        "colab_type": "code",
        "colab": {
          "base_uri": "https://localhost:8080/",
          "height": 34
        },
        "outputId": "8edea9af-5b6a-4aed-89d9-1b9aa3c10663"
      },
      "cell_type": "code",
      "source": [
        "from google.colab import drive\n",
        "drive.mount('/content/gdrive')"
      ],
      "execution_count": 1,
      "outputs": [
        {
          "output_type": "stream",
          "text": [
            "Drive already mounted at /content/gdrive; to attempt to forcibly remount, call drive.mount(\"/content/gdrive\", force_remount=True).\n"
          ],
          "name": "stdout"
        }
      ]
    },
    {
      "metadata": {
        "editable": true,
        "deletable": true,
        "id": "n5g0Nc3z_qmm",
        "colab_type": "code",
        "colab": {
          "base_uri": "https://localhost:8080/",
          "height": 50
        },
        "outputId": "45d27220-54bf-458c-ded7-ef8de9add2f0"
      },
      "cell_type": "code",
      "source": [
        "# As usual, a bit of setup\n",
        "from __future__ import print_function\n",
        "import time\n",
        "import numpy as np\n",
        "import matplotlib.pyplot as plt\n",
        "from fc_net import *\n",
        "from data_utils import get_CIFAR10_data\n",
        "from gradient_check import eval_numerical_gradient, eval_numerical_gradient_array\n",
        "from solver import Solver\n",
        "\n",
        "%matplotlib inline\n",
        "plt.rcParams['figure.figsize'] = (10.0, 8.0) # set default size of plots\n",
        "plt.rcParams['image.interpolation'] = 'nearest'\n",
        "plt.rcParams['image.cmap'] = 'gray'\n",
        "\n",
        "# for auto-reloading external modules\n",
        "# see http://stackoverflow.com/questions/1907993/autoreload-of-modules-in-ipython\n",
        "%load_ext autoreload\n",
        "%autoreload 2\n",
        "\n",
        "def rel_error(x, y):\n",
        "  \"\"\" returns relative error \"\"\"\n",
        "  return np.max(np.abs(x - y) / (np.maximum(1e-8, np.abs(x) + np.abs(y))))"
      ],
      "execution_count": 3,
      "outputs": [
        {
          "output_type": "stream",
          "text": [
            "The autoreload extension is already loaded. To reload it, use:\n",
            "  %reload_ext autoreload\n"
          ],
          "name": "stdout"
        }
      ]
    },
    {
      "metadata": {
        "editable": true,
        "deletable": true,
        "id": "3O9gHWOE_qmt",
        "colab_type": "code",
        "colab": {
          "base_uri": "https://localhost:8080/",
          "height": 118
        },
        "outputId": "81a276e1-3b97-444c-f957-bcde62ef17b5"
      },
      "cell_type": "code",
      "source": [
        "# Load the (preprocessed) CIFAR10 data.\n",
        "\n",
        "data = get_CIFAR10_data()\n",
        "for k, v in data.items():\n",
        "  print('%s: ' % k, v.shape)"
      ],
      "execution_count": 4,
      "outputs": [
        {
          "output_type": "stream",
          "text": [
            "X_train:  (49000, 3, 32, 32)\n",
            "y_train:  (49000,)\n",
            "X_val:  (1000, 3, 32, 32)\n",
            "y_val:  (1000,)\n",
            "X_test:  (1000, 3, 32, 32)\n",
            "y_test:  (1000,)\n"
          ],
          "name": "stdout"
        }
      ]
    },
    {
      "metadata": {
        "editable": true,
        "deletable": true,
        "id": "CE6N4SGe_qmx",
        "colab_type": "text"
      },
      "cell_type": "markdown",
      "source": [
        "# Dropout forward pass\n",
        "In the file `cs231n/layers.py`, implement the forward pass for dropout. Since dropout behaves differently during training and testing, make sure to implement the operation for both modes.\n",
        "\n",
        "Once you have done so, run the cell below to test your implementation."
      ]
    },
    {
      "metadata": {
        "editable": true,
        "deletable": true,
        "id": "CJDO6D9B_qmy",
        "colab_type": "code",
        "colab": {
          "base_uri": "https://localhost:8080/",
          "height": 370
        },
        "outputId": "9b5e1f63-11d1-4217-955f-a04dbeec1772"
      },
      "cell_type": "code",
      "source": [
        "np.random.seed(231)\n",
        "x = np.random.randn(500, 500) + 10\n",
        "\n",
        "for p in [0.3, 0.6, 0.75]:\n",
        "  out, _ = dropout_forward(x, {'mode': 'train', 'p': p})\n",
        "  out_test, _ = dropout_forward(x, {'mode': 'test', 'p': p})\n",
        "\n",
        "  print('Running tests with p = ', p)\n",
        "  print('Mean of input: ', x.mean())\n",
        "  print('Mean of train-time output: ', out.mean())\n",
        "  print('Mean of test-time output: ', out_test.mean())\n",
        "  print('Fraction of train-time output set to zero: ', (out == 0).mean())\n",
        "  print('Fraction of test-time output set to zero: ', (out_test == 0).mean())\n",
        "  print()"
      ],
      "execution_count": 5,
      "outputs": [
        {
          "output_type": "stream",
          "text": [
            "Running tests with p =  0.3\n",
            "Mean of input:  10.000207878477502\n",
            "Mean of train-time output:  6.993593713929743\n",
            "Mean of test-time output:  10.000207878477502\n",
            "Fraction of train-time output set to zero:  0.300672\n",
            "Fraction of test-time output set to zero:  0.0\n",
            "\n",
            "Running tests with p =  0.6\n",
            "Mean of input:  10.000207878477502\n",
            "Mean of train-time output:  4.014061423217988\n",
            "Mean of test-time output:  10.000207878477502\n",
            "Fraction of train-time output set to zero:  0.598632\n",
            "Fraction of test-time output set to zero:  0.0\n",
            "\n",
            "Running tests with p =  0.75\n",
            "Mean of input:  10.000207878477502\n",
            "Mean of train-time output:  2.5054064372816414\n",
            "Mean of test-time output:  10.000207878477502\n",
            "Fraction of train-time output set to zero:  0.749504\n",
            "Fraction of test-time output set to zero:  0.0\n",
            "\n"
          ],
          "name": "stdout"
        }
      ]
    },
    {
      "metadata": {
        "editable": true,
        "deletable": true,
        "id": "PFSRwVJe_qm2",
        "colab_type": "text"
      },
      "cell_type": "markdown",
      "source": [
        "# Dropout backward pass\n",
        "In the file `cs231n/layers.py`, implement the backward pass for dropout. After doing so, run the following cell to numerically gradient-check your implementation."
      ]
    },
    {
      "metadata": {
        "editable": true,
        "deletable": true,
        "id": "MY-VS9Ds_qm4",
        "colab_type": "code",
        "colab": {
          "base_uri": "https://localhost:8080/",
          "height": 34
        },
        "outputId": "2d75afc7-1a7e-4157-e713-0148d259147a"
      },
      "cell_type": "code",
      "source": [
        "np.random.seed(231)\n",
        "x = np.random.randn(10, 10) + 10\n",
        "dout = np.random.randn(*x.shape)\n",
        "\n",
        "dropout_param = {'mode': 'train', 'p': 0.8, 'seed': 123}\n",
        "out, cache = dropout_forward(x, dropout_param)\n",
        "dx = dropout_backward(dout, cache)\n",
        "dx_num = eval_numerical_gradient_array(lambda xx: dropout_forward(xx, dropout_param)[0], x, dout)\n",
        "\n",
        "print('dx relative error: ', rel_error(dx, dx_num))"
      ],
      "execution_count": 6,
      "outputs": [
        {
          "output_type": "stream",
          "text": [
            "dx relative error:  1.8928951796143967e-11\n"
          ],
          "name": "stdout"
        }
      ]
    },
    {
      "metadata": {
        "editable": true,
        "deletable": true,
        "id": "kyDaEg9-_qm8",
        "colab_type": "text"
      },
      "cell_type": "markdown",
      "source": [
        "# Fully-connected nets with Dropout\n",
        "In the file `cs231n/classifiers/fc_net.py`, modify your implementation to use dropout. Specificially, if the constructor the the net receives a nonzero value for the `dropout` parameter, then the net should add dropout immediately after every ReLU nonlinearity. After doing so, run the following to numerically gradient-check your implementation."
      ]
    },
    {
      "metadata": {
        "editable": true,
        "deletable": true,
        "id": "7u8vzci1_qm-",
        "colab_type": "code",
        "colab": {
          "base_uri": "https://localhost:8080/",
          "height": 470
        },
        "outputId": "f01683c5-da27-4f46-8628-ac747c058240"
      },
      "cell_type": "code",
      "source": [
        "np.random.seed(231)\n",
        "N, D, H1, H2, C = 2, 15, 20, 30, 10\n",
        "X = np.random.randn(N, D)\n",
        "y = np.random.randint(C, size=(N,))\n",
        "\n",
        "for dropout in [0, 0.25, 0.5]:  # 概率？\n",
        "  print('Running check with dropout = ', dropout)\n",
        "  model = FullyConnectedNet([H1, H2], input_dim=D, num_classes=C,\n",
        "                            weight_scale=5e-2, dtype=np.float64,\n",
        "                            dropout=dropout, seed=123)\n",
        "\n",
        "  loss, grads = model.loss(X, y)\n",
        "  print('Initial loss: ', loss)\n",
        "\n",
        "  for name in sorted(grads):\n",
        "    f = lambda _: model.loss(X, y)[0]\n",
        "    grad_num = eval_numerical_gradient(f, model.params[name], verbose=False, h=1e-5)\n",
        "    print('%s relative error: %.2e' % (name, rel_error(grad_num, grads[name])))\n",
        "  print()"
      ],
      "execution_count": 7,
      "outputs": [
        {
          "output_type": "stream",
          "text": [
            "Running check with dropout =  0\n",
            "Initial loss:  2.303059698318541\n",
            "W1 relative error: 3.04e-07\n",
            "W2 relative error: 9.48e-06\n",
            "W3 relative error: 1.14e-07\n",
            "b1 relative error: 1.19e-08\n",
            "b2 relative error: 1.90e-08\n",
            "b3 relative error: 1.45e-10\n",
            "\n",
            "Running check with dropout =  0.25\n",
            "Initial loss:  2.3017488915030606\n",
            "W1 relative error: 1.86e-06\n",
            "W2 relative error: 1.54e-06\n",
            "W3 relative error: 8.30e-08\n",
            "b1 relative error: 2.21e-08\n",
            "b2 relative error: 1.91e-09\n",
            "b3 relative error: 2.36e-10\n",
            "\n",
            "Running check with dropout =  0.5\n",
            "Initial loss:  2.3027806226680796\n",
            "W1 relative error: 3.24e-06\n",
            "W2 relative error: 2.45e-06\n",
            "W3 relative error: 1.11e-07\n",
            "b1 relative error: 2.04e-07\n",
            "b2 relative error: 7.34e-08\n",
            "b3 relative error: 2.31e-10\n",
            "\n"
          ],
          "name": "stdout"
        }
      ]
    },
    {
      "metadata": {
        "editable": true,
        "deletable": true,
        "id": "Wzg3Uu6G_qnC",
        "colab_type": "text"
      },
      "cell_type": "markdown",
      "source": [
        "# Regularization experiment\n",
        "As an experiment, we will train a pair of two-layer networks on 500 training examples: one will use no dropout, and one will use a dropout probability of 0.75. We will then visualize the training and validation accuracies of the two networks over time."
      ]
    },
    {
      "metadata": {
        "scrolled": false,
        "editable": true,
        "deletable": true,
        "id": "l12fOYlf_qnD",
        "colab_type": "code",
        "colab": {
          "base_uri": "https://localhost:8080/",
          "height": 991
        },
        "outputId": "0680e324-2c57-4dd8-a9fe-963a6c6e5fbc"
      },
      "cell_type": "code",
      "source": [
        "# Train two identical nets, one with dropout and one without\n",
        "np.random.seed(231)\n",
        "num_train = 500\n",
        "small_data = {\n",
        "  'X_train': data['X_train'][:num_train],\n",
        "  'y_train': data['y_train'][:num_train],\n",
        "  'X_val': data['X_val'],\n",
        "  'y_val': data['y_val'],\n",
        "}\n",
        "\n",
        "solvers = {}\n",
        "dropout_choices = [0, 0.75]\n",
        "for dropout in dropout_choices:\n",
        "  model = FullyConnectedNet([500], dropout=dropout)\n",
        "  print(dropout)\n",
        "\n",
        "  solver = Solver(model, small_data,\n",
        "                  num_epochs=25, batch_size=100,\n",
        "                  update_rule='adam',\n",
        "                  optim_config={\n",
        "                    'learning_rate': 5e-4,\n",
        "                  },\n",
        "                  verbose=True, print_every=100)\n",
        "  solver.train()\n",
        "  solvers[dropout] = solver"
      ],
      "execution_count": 8,
      "outputs": [
        {
          "output_type": "stream",
          "text": [
            "0\n",
            "(Iteration 1 / 125) loss: 6.485369\n",
            "(Epoch 0 / 25) train acc: 0.194000; val_acc: 0.166000\n",
            "(Epoch 1 / 25) train acc: 0.152000; val_acc: 0.122000\n",
            "(Epoch 2 / 25) train acc: 0.206000; val_acc: 0.131000\n",
            "(Epoch 3 / 25) train acc: 0.156000; val_acc: 0.109000\n",
            "(Epoch 4 / 25) train acc: 0.158000; val_acc: 0.105000\n",
            "(Epoch 5 / 25) train acc: 0.160000; val_acc: 0.101000\n",
            "(Epoch 6 / 25) train acc: 0.162000; val_acc: 0.101000\n",
            "(Epoch 7 / 25) train acc: 0.192000; val_acc: 0.112000\n",
            "(Epoch 8 / 25) train acc: 0.182000; val_acc: 0.102000\n",
            "(Epoch 9 / 25) train acc: 0.196000; val_acc: 0.116000\n",
            "(Epoch 10 / 25) train acc: 0.190000; val_acc: 0.103000\n",
            "(Epoch 11 / 25) train acc: 0.196000; val_acc: 0.118000\n",
            "(Epoch 12 / 25) train acc: 0.198000; val_acc: 0.118000\n",
            "(Epoch 13 / 25) train acc: 0.192000; val_acc: 0.104000\n",
            "(Epoch 14 / 25) train acc: 0.204000; val_acc: 0.108000\n",
            "(Epoch 15 / 25) train acc: 0.204000; val_acc: 0.106000\n",
            "(Epoch 16 / 25) train acc: 0.204000; val_acc: 0.106000\n",
            "(Epoch 17 / 25) train acc: 0.212000; val_acc: 0.116000\n",
            "(Epoch 18 / 25) train acc: 0.214000; val_acc: 0.111000\n",
            "(Epoch 19 / 25) train acc: 0.220000; val_acc: 0.125000\n",
            "(Epoch 20 / 25) train acc: 0.226000; val_acc: 0.131000\n",
            "(Iteration 101 / 125) loss: 3.177830\n",
            "(Epoch 21 / 25) train acc: 0.212000; val_acc: 0.111000\n",
            "(Epoch 22 / 25) train acc: 0.214000; val_acc: 0.106000\n",
            "(Epoch 23 / 25) train acc: 0.216000; val_acc: 0.108000\n",
            "(Epoch 24 / 25) train acc: 0.218000; val_acc: 0.110000\n",
            "(Epoch 25 / 25) train acc: 0.214000; val_acc: 0.105000\n",
            "0.75\n",
            "(Iteration 1 / 125) loss: 2.872914\n",
            "(Epoch 0 / 25) train acc: 0.114000; val_acc: 0.114000\n",
            "(Epoch 1 / 25) train acc: 0.118000; val_acc: 0.100000\n",
            "(Epoch 2 / 25) train acc: 0.122000; val_acc: 0.093000\n",
            "(Epoch 3 / 25) train acc: 0.114000; val_acc: 0.087000\n",
            "(Epoch 4 / 25) train acc: 0.122000; val_acc: 0.103000\n",
            "(Epoch 5 / 25) train acc: 0.112000; val_acc: 0.093000\n",
            "(Epoch 6 / 25) train acc: 0.118000; val_acc: 0.098000\n",
            "(Epoch 7 / 25) train acc: 0.118000; val_acc: 0.097000\n",
            "(Epoch 8 / 25) train acc: 0.120000; val_acc: 0.093000\n",
            "(Epoch 9 / 25) train acc: 0.110000; val_acc: 0.093000\n",
            "(Epoch 10 / 25) train acc: 0.114000; val_acc: 0.092000\n",
            "(Epoch 11 / 25) train acc: 0.114000; val_acc: 0.088000\n",
            "(Epoch 12 / 25) train acc: 0.114000; val_acc: 0.088000\n",
            "(Epoch 13 / 25) train acc: 0.116000; val_acc: 0.088000\n",
            "(Epoch 14 / 25) train acc: 0.116000; val_acc: 0.088000\n",
            "(Epoch 15 / 25) train acc: 0.116000; val_acc: 0.088000\n",
            "(Epoch 16 / 25) train acc: 0.114000; val_acc: 0.088000\n",
            "(Epoch 17 / 25) train acc: 0.118000; val_acc: 0.088000\n",
            "(Epoch 18 / 25) train acc: 0.116000; val_acc: 0.088000\n",
            "(Epoch 19 / 25) train acc: 0.116000; val_acc: 0.088000\n",
            "(Epoch 20 / 25) train acc: 0.118000; val_acc: 0.088000\n",
            "(Iteration 101 / 125) loss: 2.289625\n",
            "(Epoch 21 / 25) train acc: 0.114000; val_acc: 0.087000\n",
            "(Epoch 22 / 25) train acc: 0.114000; val_acc: 0.088000\n",
            "(Epoch 23 / 25) train acc: 0.114000; val_acc: 0.088000\n",
            "(Epoch 24 / 25) train acc: 0.114000; val_acc: 0.089000\n",
            "(Epoch 25 / 25) train acc: 0.114000; val_acc: 0.089000\n"
          ],
          "name": "stdout"
        }
      ]
    },
    {
      "metadata": {
        "editable": true,
        "deletable": true,
        "id": "C84A_UIm_qnI",
        "colab_type": "code",
        "colab": {
          "base_uri": "https://localhost:8080/",
          "height": 605
        },
        "outputId": "2ee033bb-4cd0-40f9-82f7-234a64b6bab9"
      },
      "cell_type": "code",
      "source": [
        "# Plot train and validation accuracies of the two models\n",
        "\n",
        "train_accs = []\n",
        "val_accs = []\n",
        "for dropout in dropout_choices:\n",
        "  solver = solvers[dropout]\n",
        "  train_accs.append(solver.train_acc_history[-1])\n",
        "  val_accs.append(solver.val_acc_history[-1])\n",
        "\n",
        "plt.subplot(3, 1, 1)\n",
        "for dropout in dropout_choices:\n",
        "  plt.plot(solvers[dropout].train_acc_history, 'o', label='%.2f dropout' % dropout)\n",
        "plt.title('Train accuracy')\n",
        "plt.xlabel('Epoch')\n",
        "plt.ylabel('Accuracy')\n",
        "plt.legend(ncol=2, loc='lower right')\n",
        "  \n",
        "plt.subplot(3, 1, 2)\n",
        "for dropout in dropout_choices:\n",
        "  plt.plot(solvers[dropout].val_acc_history, 'o', label='%.2f dropout' % dropout)\n",
        "plt.title('Val accuracy')\n",
        "plt.xlabel('Epoch')\n",
        "plt.ylabel('Accuracy')\n",
        "plt.legend(ncol=2, loc='lower right')\n",
        "\n",
        "plt.gcf().set_size_inches(15, 15)\n",
        "plt.show()"
      ],
      "execution_count": 9,
      "outputs": [
        {
          "output_type": "display_data",
          "data": {
            "image/png": "[encoded data removed]",
            "text/plain": [
              "<Figure size 1080x1080 with 2 Axes>"
            ]
          },
          "metadata": {
            "tags": []
          }
        }
      ]
    },
    {
      "metadata": {
        "editable": true,
        "deletable": true,
        "id": "x_y8yAdz_qnM",
        "colab_type": "text"
      },
      "cell_type": "markdown",
      "source": [
        "# Question\n",
        "Explain what you see in this experiment. What does it suggest about dropout?"
      ]
    },
    {
      "metadata": {
        "editable": true,
        "deletable": true,
        "id": "QwvShfdm_qnO",
        "colab_type": "text"
      },
      "cell_type": "markdown",
      "source": [
        "# Answer Dropout的值越大，最后的精度也就越低，其实这也是很符合逻辑的，丢失或者说压缩的内容越多，对于训练信息流失的也就越多，不利于采集图片的原始特征。（不知道我这样算是讲清楚了吗）\n"
      ]
    }
  ]
}